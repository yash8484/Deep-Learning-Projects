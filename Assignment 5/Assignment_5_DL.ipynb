{
  "cells": [
    {
      "cell_type": "code",
      "source": [
        "pip install keras-tuner --upgrade"
      ],
      "metadata": {
        "colab": {
          "base_uri": "https://localhost:8080/"
        },
        "id": "xFyBvE7T2JZt",
        "outputId": "60299555-af31-4884-e92f-0cab390c2607"
      },
      "id": "xFyBvE7T2JZt",
      "execution_count": 1,
      "outputs": [
        {
          "output_type": "stream",
          "name": "stdout",
          "text": [
            "Looking in indexes: https://pypi.org/simple, https://us-python.pkg.dev/colab-wheels/public/simple/\n",
            "Collecting keras-tuner\n",
            "  Downloading keras_tuner-1.1.3-py3-none-any.whl (135 kB)\n",
            "\u001b[?25l     \u001b[90m━━━━━━━━━━━━━━━━━━━━━━━━━━━━━━━━━━━━━━━━\u001b[0m \u001b[32m0.0/135.7 KB\u001b[0m \u001b[31m?\u001b[0m eta \u001b[36m-:--:--\u001b[0m\r\u001b[2K     \u001b[90m━━━━━━━━━━━━━━━━━━━━━━━━━━━━━━━━━━━━━━━\u001b[0m \u001b[32m135.7/135.7 KB\u001b[0m \u001b[31m4.3 MB/s\u001b[0m eta \u001b[36m0:00:00\u001b[0m\n",
            "\u001b[?25hRequirement already satisfied: ipython in /usr/local/lib/python3.8/dist-packages (from keras-tuner) (7.9.0)\n",
            "Requirement already satisfied: tensorboard in /usr/local/lib/python3.8/dist-packages (from keras-tuner) (2.9.1)\n",
            "Collecting kt-legacy\n",
            "  Downloading kt_legacy-1.0.4-py3-none-any.whl (9.6 kB)\n",
            "Requirement already satisfied: packaging in /usr/local/lib/python3.8/dist-packages (from keras-tuner) (21.3)\n",
            "Requirement already satisfied: requests in /usr/local/lib/python3.8/dist-packages (from keras-tuner) (2.25.1)\n",
            "Requirement already satisfied: numpy in /usr/local/lib/python3.8/dist-packages (from keras-tuner) (1.21.6)\n",
            "Requirement already satisfied: backcall in /usr/local/lib/python3.8/dist-packages (from ipython->keras-tuner) (0.2.0)\n",
            "Requirement already satisfied: traitlets>=4.2 in /usr/local/lib/python3.8/dist-packages (from ipython->keras-tuner) (5.7.1)\n",
            "Requirement already satisfied: pickleshare in /usr/local/lib/python3.8/dist-packages (from ipython->keras-tuner) (0.7.5)\n",
            "Requirement already satisfied: prompt-toolkit<2.1.0,>=2.0.0 in /usr/local/lib/python3.8/dist-packages (from ipython->keras-tuner) (2.0.10)\n",
            "Requirement already satisfied: decorator in /usr/local/lib/python3.8/dist-packages (from ipython->keras-tuner) (4.4.2)\n",
            "Requirement already satisfied: setuptools>=18.5 in /usr/local/lib/python3.8/dist-packages (from ipython->keras-tuner) (57.4.0)\n",
            "Collecting jedi>=0.10\n",
            "  Downloading jedi-0.18.2-py2.py3-none-any.whl (1.6 MB)\n",
            "\u001b[2K     \u001b[90m━━━━━━━━━━━━━━━━━━━━━━━━━━━━━━━━━━━━━━━━\u001b[0m \u001b[32m1.6/1.6 MB\u001b[0m \u001b[31m28.5 MB/s\u001b[0m eta \u001b[36m0:00:00\u001b[0m\n",
            "\u001b[?25hRequirement already satisfied: pexpect in /usr/local/lib/python3.8/dist-packages (from ipython->keras-tuner) (4.8.0)\n",
            "Requirement already satisfied: pygments in /usr/local/lib/python3.8/dist-packages (from ipython->keras-tuner) (2.6.1)\n",
            "Requirement already satisfied: pyparsing!=3.0.5,>=2.0.2 in /usr/local/lib/python3.8/dist-packages (from packaging->keras-tuner) (3.0.9)\n",
            "Requirement already satisfied: idna<3,>=2.5 in /usr/local/lib/python3.8/dist-packages (from requests->keras-tuner) (2.10)\n",
            "Requirement already satisfied: chardet<5,>=3.0.2 in /usr/local/lib/python3.8/dist-packages (from requests->keras-tuner) (4.0.0)\n",
            "Requirement already satisfied: certifi>=2017.4.17 in /usr/local/lib/python3.8/dist-packages (from requests->keras-tuner) (2022.12.7)\n",
            "Requirement already satisfied: urllib3<1.27,>=1.21.1 in /usr/local/lib/python3.8/dist-packages (from requests->keras-tuner) (1.24.3)\n",
            "Requirement already satisfied: absl-py>=0.4 in /usr/local/lib/python3.8/dist-packages (from tensorboard->keras-tuner) (1.3.0)\n",
            "Requirement already satisfied: tensorboard-plugin-wit>=1.6.0 in /usr/local/lib/python3.8/dist-packages (from tensorboard->keras-tuner) (1.8.1)\n",
            "Requirement already satisfied: werkzeug>=1.0.1 in /usr/local/lib/python3.8/dist-packages (from tensorboard->keras-tuner) (1.0.1)\n",
            "Requirement already satisfied: google-auth-oauthlib<0.5,>=0.4.1 in /usr/local/lib/python3.8/dist-packages (from tensorboard->keras-tuner) (0.4.6)\n",
            "Requirement already satisfied: tensorboard-data-server<0.7.0,>=0.6.0 in /usr/local/lib/python3.8/dist-packages (from tensorboard->keras-tuner) (0.6.1)\n",
            "Requirement already satisfied: markdown>=2.6.8 in /usr/local/lib/python3.8/dist-packages (from tensorboard->keras-tuner) (3.4.1)\n",
            "Requirement already satisfied: wheel>=0.26 in /usr/local/lib/python3.8/dist-packages (from tensorboard->keras-tuner) (0.38.4)\n",
            "Requirement already satisfied: grpcio>=1.24.3 in /usr/local/lib/python3.8/dist-packages (from tensorboard->keras-tuner) (1.51.1)\n",
            "Requirement already satisfied: protobuf<3.20,>=3.9.2 in /usr/local/lib/python3.8/dist-packages (from tensorboard->keras-tuner) (3.19.6)\n",
            "Requirement already satisfied: google-auth<3,>=1.6.3 in /usr/local/lib/python3.8/dist-packages (from tensorboard->keras-tuner) (2.15.0)\n",
            "Requirement already satisfied: cachetools<6.0,>=2.0.0 in /usr/local/lib/python3.8/dist-packages (from google-auth<3,>=1.6.3->tensorboard->keras-tuner) (5.2.0)\n",
            "Requirement already satisfied: pyasn1-modules>=0.2.1 in /usr/local/lib/python3.8/dist-packages (from google-auth<3,>=1.6.3->tensorboard->keras-tuner) (0.2.8)\n",
            "Requirement already satisfied: six>=1.9.0 in /usr/local/lib/python3.8/dist-packages (from google-auth<3,>=1.6.3->tensorboard->keras-tuner) (1.15.0)\n",
            "Requirement already satisfied: rsa<5,>=3.1.4 in /usr/local/lib/python3.8/dist-packages (from google-auth<3,>=1.6.3->tensorboard->keras-tuner) (4.9)\n",
            "Requirement already satisfied: requests-oauthlib>=0.7.0 in /usr/local/lib/python3.8/dist-packages (from google-auth-oauthlib<0.5,>=0.4.1->tensorboard->keras-tuner) (1.3.1)\n",
            "Requirement already satisfied: parso<0.9.0,>=0.8.0 in /usr/local/lib/python3.8/dist-packages (from jedi>=0.10->ipython->keras-tuner) (0.8.3)\n",
            "Requirement already satisfied: importlib-metadata>=4.4 in /usr/local/lib/python3.8/dist-packages (from markdown>=2.6.8->tensorboard->keras-tuner) (6.0.0)\n",
            "Requirement already satisfied: wcwidth in /usr/local/lib/python3.8/dist-packages (from prompt-toolkit<2.1.0,>=2.0.0->ipython->keras-tuner) (0.2.5)\n",
            "Requirement already satisfied: ptyprocess>=0.5 in /usr/local/lib/python3.8/dist-packages (from pexpect->ipython->keras-tuner) (0.7.0)\n",
            "Requirement already satisfied: zipp>=0.5 in /usr/local/lib/python3.8/dist-packages (from importlib-metadata>=4.4->markdown>=2.6.8->tensorboard->keras-tuner) (3.11.0)\n",
            "Requirement already satisfied: pyasn1<0.5.0,>=0.4.6 in /usr/local/lib/python3.8/dist-packages (from pyasn1-modules>=0.2.1->google-auth<3,>=1.6.3->tensorboard->keras-tuner) (0.4.8)\n",
            "Requirement already satisfied: oauthlib>=3.0.0 in /usr/local/lib/python3.8/dist-packages (from requests-oauthlib>=0.7.0->google-auth-oauthlib<0.5,>=0.4.1->tensorboard->keras-tuner) (3.2.2)\n",
            "Installing collected packages: kt-legacy, jedi, keras-tuner\n",
            "Successfully installed jedi-0.18.2 keras-tuner-1.1.3 kt-legacy-1.0.4\n"
          ]
        }
      ]
    },
    {
      "cell_type": "code",
      "execution_count": 2,
      "id": "bea1937b",
      "metadata": {
        "id": "bea1937b"
      },
      "outputs": [],
      "source": [
        "import numpy as np \n",
        "import tensorflow \n",
        "from tensorflow import keras \n",
        "import matplotlib as plt\n",
        "from PIL import Image\n",
        "from tensorflow.keras import layers\n",
        "from tensorflow.keras import Sequential \n",
        "from keras.preprocessing.image import ImageDataGenerator\n",
        "import keras_tuner\n",
        "import os\n",
        "from keras import Sequential\n",
        "from keras.layers import Dense,Dropout\n",
        "\n",
        "from os import listdir "
      ]
    },
    {
      "cell_type": "code",
      "source": [
        "from google.colab import drive\n",
        "drive.mount('/content/drive')"
      ],
      "metadata": {
        "id": "pjuiMQVLYtvl",
        "colab": {
          "base_uri": "https://localhost:8080/"
        },
        "outputId": "c965a96e-3a89-4496-a829-e88aa5e9f854"
      },
      "id": "pjuiMQVLYtvl",
      "execution_count": 3,
      "outputs": [
        {
          "output_type": "stream",
          "name": "stdout",
          "text": [
            "Mounted at /content/drive\n"
          ]
        }
      ]
    },
    {
      "cell_type": "code",
      "source": [
        "train_data_dir = \"/content/drive/MyDrive/Colab Notebooks/intel_image/seg_pred/seg_train\"\n",
        "test_data_dir = \"/content/drive/MyDrive/Colab Notebooks/intel_image/seg_pred/seg_test/seg_test\""
      ],
      "metadata": {
        "id": "yUwxXg8a4dE1"
      },
      "id": "yUwxXg8a4dE1",
      "execution_count": 15,
      "outputs": []
    },
    {
      "cell_type": "code",
      "source": [
        "image_generator = ImageDataGenerator(rescale=1/255, validation_split=0.2)    \n",
        "\n",
        "train_data = image_generator.flow_from_directory(batch_size=64,\n",
        "                                                 directory=train_data_dir,\n",
        "                                                 shuffle=True,\n",
        "                                                 target_size=(64,64), \n",
        "                                                 subset=\"training\",\n",
        "                                                 class_mode='categorical')"
      ],
      "metadata": {
        "colab": {
          "base_uri": "https://localhost:8080/"
        },
        "id": "Fd6ukFxgPl0y",
        "outputId": "88caae04-4cbf-474b-9c8f-1f7d89a63440"
      },
      "id": "Fd6ukFxgPl0y",
      "execution_count": 16,
      "outputs": [
        {
          "output_type": "stream",
          "name": "stdout",
          "text": [
            "Found 11230 images belonging to 6 classes.\n"
          ]
        }
      ]
    },
    {
      "cell_type": "code",
      "source": [
        "val_data = image_generator.flow_from_directory(batch_size=64,\n",
        "                                                 directory=train_data_dir,\n",
        "                                                 shuffle=False,\n",
        "                                                 target_size=(64,64), \n",
        "                                                 subset=\"validation\",\n",
        "                                                 class_mode='categorical')\n",
        "test_gen = ImageDataGenerator(rescale=1./255)\n",
        "test_data = test_gen.flow_from_directory(test_data_dir,\n",
        "                                       target_size=(64,64), batch_size=64, shuffle=False)\n",
        "\n",
        "print(train_data.classes)\n",
        "print(val_data.classes)\n"
      ],
      "metadata": {
        "colab": {
          "base_uri": "https://localhost:8080/"
        },
        "id": "I7Y_XK73PqIV",
        "outputId": "f102e8b2-1f22-4d51-f82f-02ae7cdfa142"
      },
      "id": "I7Y_XK73PqIV",
      "execution_count": 18,
      "outputs": [
        {
          "output_type": "stream",
          "name": "stdout",
          "text": [
            "Found 2804 images belonging to 6 classes.\n",
            "Found 3000 images belonging to 6 classes.\n",
            "[0 0 0 ... 5 5 5]\n",
            "[0 0 0 ... 5 5 5]\n"
          ]
        }
      ]
    },
    {
      "cell_type": "code",
      "source": [],
      "metadata": {
        "id": "-9odlBe56idU"
      },
      "id": "-9odlBe56idU",
      "execution_count": null,
      "outputs": []
    },
    {
      "cell_type": "code",
      "source": [
        "def build_model1(hp):  \n",
        "  model1 = keras.Sequential([\n",
        "    keras.layers.Conv2D(\n",
        "        filters=hp.Int('conv_1_filter', min_value=32, max_value=128, step=16),\n",
        "        kernel_size=hp.Choice('conv_1_kernel', values = [3,5]),\n",
        "        activation='relu',\n",
        "        input_shape=(64,64,3),\n",
        "        padding = 'same'\n",
        "    ),\n",
        "     \n",
        "    keras.layers.MaxPooling2D((3, 3)),\n",
        "    keras.layers.Flatten(),\n",
        "    keras.layers.Dense(64, activation = 'relu'),\n",
        "    keras.layers.Dense(32, activation = 'relu'),\n",
        "    keras.layers.Dense(6, activation='softmax')\n",
        "  ])\n",
        "\n",
        "  model1.compile(optimizer='Adam',\n",
        "                  loss='categorical_crossentropy',\n",
        "                  metrics=['accuracy'])\n",
        "  \n",
        "  return model1\n",
        "\n",
        "tuner1 = keras_tuner.RandomSearch(\n",
        "    build_model1,\n",
        "    objective='val_accuracy',\n",
        "    max_trials=10)\n",
        "\n",
        "tuner1.search(train_data, epochs=5, validation_data=val_data)\n",
        "tuner1.results_summary()"
      ],
      "metadata": {
        "colab": {
          "base_uri": "https://localhost:8080/"
        },
        "id": "DbeWXE6keNSa",
        "outputId": "3c7b66de-1b64-4f6d-ccff-5a456d255d06"
      },
      "id": "DbeWXE6keNSa",
      "execution_count": 55,
      "outputs": [
        {
          "output_type": "stream",
          "name": "stdout",
          "text": [
            "Trial 10 Complete [00h 02m 23s]\n",
            "val_accuracy: 0.7571326494216919\n",
            "\n",
            "Best val_accuracy So Far: 0.7803138494491577\n",
            "Total elapsed time: 00h 17m 03s\n",
            "Results summary\n",
            "Results in ./untitled_project\n",
            "Showing 10 best trials\n",
            "<keras_tuner.engine.objective.Objective object at 0x7fedc64c7b80>\n",
            "Trial summary\n",
            "Hyperparameters:\n",
            "conv_1_filter: 48\n",
            "conv_1_kernel: 5\n",
            "conv_2_filter: 128\n",
            "conv_2_kernel: 5\n",
            "learning_rate: 0.001\n",
            "units: 48\n",
            "Score: 0.7803138494491577\n",
            "Trial summary\n",
            "Hyperparameters:\n",
            "conv_1_filter: 80\n",
            "conv_1_kernel: 3\n",
            "conv_2_filter: 64\n",
            "conv_2_kernel: 5\n",
            "learning_rate: 0.001\n",
            "units: 120\n",
            "Score: 0.7710413932800293\n",
            "Trial summary\n",
            "Hyperparameters:\n",
            "conv_1_filter: 112\n",
            "conv_1_kernel: 5\n",
            "conv_2_filter: 80\n",
            "conv_2_kernel: 3\n",
            "learning_rate: 0.005\n",
            "units: 88\n",
            "Score: 0.7689015865325928\n",
            "Trial summary\n",
            "Hyperparameters:\n",
            "conv_1_filter: 112\n",
            "conv_1_kernel: 3\n",
            "conv_2_filter: 112\n",
            "conv_2_kernel: 3\n",
            "learning_rate: 0.001\n",
            "units: 40\n",
            "Score: 0.7599857449531555\n",
            "Trial summary\n",
            "Hyperparameters:\n",
            "conv_1_filter: 96\n",
            "conv_1_kernel: 5\n",
            "conv_2_filter: 80\n",
            "conv_2_kernel: 3\n",
            "learning_rate: 0.05\n",
            "units: 104\n",
            "Score: 0.7571326494216919\n",
            "Trial summary\n",
            "Hyperparameters:\n",
            "conv_1_filter: 32\n",
            "conv_1_kernel: 3\n",
            "conv_2_filter: 48\n",
            "conv_2_kernel: 3\n",
            "learning_rate: 0.0005\n",
            "units: 104\n",
            "Score: 0.7503566145896912\n",
            "Trial summary\n",
            "Hyperparameters:\n",
            "conv_1_filter: 64\n",
            "conv_1_kernel: 3\n",
            "conv_2_filter: 96\n",
            "conv_2_kernel: 5\n",
            "learning_rate: 0.005\n",
            "units: 104\n",
            "Score: 0.7489300966262817\n",
            "Trial summary\n",
            "Hyperparameters:\n",
            "conv_1_filter: 112\n",
            "conv_1_kernel: 5\n",
            "conv_2_filter: 128\n",
            "conv_2_kernel: 3\n",
            "learning_rate: 0.05\n",
            "units: 128\n",
            "Score: 0.17902995645999908\n",
            "Trial summary\n",
            "Hyperparameters:\n",
            "conv_1_filter: 64\n",
            "conv_1_kernel: 3\n",
            "conv_2_filter: 48\n",
            "conv_2_kernel: 5\n",
            "learning_rate: 0.05\n",
            "units: 40\n",
            "Score: 0.17902995645999908\n",
            "Trial summary\n",
            "Hyperparameters:\n",
            "conv_1_filter: 48\n",
            "conv_1_kernel: 3\n",
            "conv_2_filter: 96\n",
            "conv_2_kernel: 3\n",
            "learning_rate: 0.05\n",
            "units: 32\n",
            "Score: 0.17902995645999908\n"
          ]
        }
      ]
    },
    {
      "cell_type": "code",
      "source": [
        "def build_model2(hp):  \n",
        "    model2 = keras.Sequential([\n",
        "      keras.layers.Conv2D(64, (3, 3), activation='relu', input_shape = (64, 64, 3), padding = 'same'),\n",
        "      keras.layers.MaxPooling2D((3, 3)),\n",
        "      keras.layers.Conv2D(112, (5, 5), activation='relu', padding = 'same'),\n",
        "      keras.layers.MaxPooling2D((3, 3)),\n",
        "      keras.layers.Conv2D(80, (5, 5), activation='relu', padding = 'same'),\n",
        "      keras.layers.MaxPooling2D((3, 3)),\n",
        "      keras.layers.Flatten(),\n",
        "      keras.layers.Dense(64, activation = 'relu'),\n",
        "      keras.layers.Dense(32, activation = 'relu'),\n",
        "      keras.layers.Dense(6, activation='softmax')\n",
        "      ])\n",
        "\n",
        "    model2.compile(optimizer=keras.optimizers.Adam(hp.Choice('learning_rate', values=[0.001,0.005,0.025,0.05,0.0005,0.0001])),\n",
        "                  loss='categorical_crossentropy',\n",
        "                  metrics=['accuracy'])\n",
        "  \n",
        "    return model2\n",
        "\n",
        "tuner2 = keras_tuner.RandomSearch(\n",
        "    build_model2,\n",
        "    objective='val_accuracy',\n",
        "    max_trials=5)\n",
        "\n",
        "tuner2.search(train_data, epochs=10, validation_data=val_data)\n",
        "tuner2.results_summary()"
      ],
      "metadata": {
        "colab": {
          "base_uri": "https://localhost:8080/"
        },
        "id": "akVZx0dvu2zc",
        "outputId": "23e20da1-1f27-4d5f-a869-aa51b295b6c8"
      },
      "id": "akVZx0dvu2zc",
      "execution_count": 61,
      "outputs": [
        {
          "output_type": "stream",
          "name": "stdout",
          "text": [
            "Results summary\n",
            "Results in ./untitled_project\n",
            "Showing 10 best trials\n",
            "<keras_tuner.engine.objective.Objective object at 0x7fedc64c7280>\n",
            "Trial summary\n",
            "Hyperparameters:\n",
            "conv_1_filter: 48\n",
            "conv_1_kernel: 5\n",
            "conv_2_filter: 128\n",
            "conv_2_kernel: 5\n",
            "learning_rate: 0.001\n",
            "units: 48\n",
            "Score: 0.7803138494491577\n",
            "Trial summary\n",
            "Hyperparameters:\n",
            "conv_1_filter: 80\n",
            "conv_1_kernel: 3\n",
            "conv_2_filter: 64\n",
            "conv_2_kernel: 5\n",
            "learning_rate: 0.001\n",
            "units: 120\n",
            "Score: 0.7710413932800293\n",
            "Trial summary\n",
            "Hyperparameters:\n",
            "conv_1_filter: 112\n",
            "conv_1_kernel: 5\n",
            "conv_2_filter: 80\n",
            "conv_2_kernel: 3\n",
            "learning_rate: 0.005\n",
            "units: 88\n",
            "Score: 0.7689015865325928\n",
            "Trial summary\n",
            "Hyperparameters:\n",
            "conv_1_filter: 112\n",
            "conv_1_kernel: 3\n",
            "conv_2_filter: 112\n",
            "conv_2_kernel: 3\n",
            "learning_rate: 0.001\n",
            "units: 40\n",
            "Score: 0.7599857449531555\n",
            "Trial summary\n",
            "Hyperparameters:\n",
            "conv_1_filter: 96\n",
            "conv_1_kernel: 5\n",
            "conv_2_filter: 80\n",
            "conv_2_kernel: 3\n",
            "learning_rate: 0.05\n",
            "units: 104\n",
            "Score: 0.7571326494216919\n",
            "Trial summary\n",
            "Hyperparameters:\n",
            "conv_1_filter: 32\n",
            "conv_1_kernel: 3\n",
            "conv_2_filter: 48\n",
            "conv_2_kernel: 3\n",
            "learning_rate: 0.0005\n",
            "units: 104\n",
            "Score: 0.7503566145896912\n",
            "Trial summary\n",
            "Hyperparameters:\n",
            "conv_1_filter: 64\n",
            "conv_1_kernel: 3\n",
            "conv_2_filter: 96\n",
            "conv_2_kernel: 5\n",
            "learning_rate: 0.005\n",
            "units: 104\n",
            "Score: 0.7489300966262817\n",
            "Trial summary\n",
            "Hyperparameters:\n",
            "conv_1_filter: 64\n",
            "conv_1_kernel: 3\n",
            "conv_2_filter: 48\n",
            "conv_2_kernel: 5\n",
            "learning_rate: 0.05\n",
            "units: 40\n",
            "Score: 0.17902995645999908\n",
            "Trial summary\n",
            "Hyperparameters:\n",
            "conv_1_filter: 48\n",
            "conv_1_kernel: 3\n",
            "conv_2_filter: 96\n",
            "conv_2_kernel: 3\n",
            "learning_rate: 0.05\n",
            "units: 32\n",
            "Score: 0.17902995645999908\n",
            "Trial summary\n",
            "Hyperparameters:\n",
            "conv_1_filter: 112\n",
            "conv_1_kernel: 5\n",
            "conv_2_filter: 128\n",
            "conv_2_kernel: 3\n",
            "learning_rate: 0.05\n",
            "units: 128\n",
            "Score: 0.17902995645999908\n"
          ]
        }
      ]
    },
    {
      "cell_type": "code",
      "source": [
        "model = keras.Sequential()\n",
        "model.add(layers.Conv2D(64, (3, 3), activation='relu', input_shape = (64, 64, 3), padding = 'same'))\n",
        "model.add(layers.MaxPooling2D((3, 3)))\n",
        "model.add(layers.Conv2D(64, (3, 3), activation='relu', padding = 'same'))\n",
        "model.add(layers.MaxPooling2D((2, 2)))\n",
        "model.add(layers.Conv2D(64, (3, 3), activation='relu', padding = 'same'))\n",
        "model.add(layers.MaxPooling2D((3, 3)))\n",
        "model.add(layers.Flatten())\n",
        "model.add(layers.Dense(64, activation = 'relu'))\n",
        "model.add(layers.Dense(32, activation = 'relu'))\n",
        "model.add(layers.Dense(6, activation = 'softmax'))\n",
        "\n",
        "model.compile(optimizer='Adam',\n",
        "              loss='categorical_crossentropy',\n",
        "              metrics=['accuracy'])\n",
        "model.fit(train_data, epochs=10, batch_size=64, validation_data = val_data)\n",
        "test_loss, test_acc = model.evaluate((test_data))"
      ],
      "metadata": {
        "colab": {
          "base_uri": "https://localhost:8080/"
        },
        "id": "hZjFEAJovT3p",
        "outputId": "8cc5003e-2c4c-4da0-8998-ecf1e46d5f77"
      },
      "id": "hZjFEAJovT3p",
      "execution_count": 62,
      "outputs": [
        {
          "output_type": "stream",
          "name": "stdout",
          "text": [
            "Epoch 1/10\n",
            "176/176 [==============================] - 30s 169ms/step - loss: 1.2219 - accuracy: 0.4996 - val_loss: 0.9917 - val_accuracy: 0.6116\n",
            "Epoch 2/10\n",
            "176/176 [==============================] - 29s 166ms/step - loss: 0.9299 - accuracy: 0.6339 - val_loss: 0.8668 - val_accuracy: 0.6655\n",
            "Epoch 3/10\n",
            "176/176 [==============================] - 29s 164ms/step - loss: 0.8071 - accuracy: 0.6880 - val_loss: 0.7695 - val_accuracy: 0.7079\n",
            "Epoch 4/10\n",
            "176/176 [==============================] - 29s 164ms/step - loss: 0.6995 - accuracy: 0.7410 - val_loss: 0.7283 - val_accuracy: 0.7254\n",
            "Epoch 5/10\n",
            "176/176 [==============================] - 29s 162ms/step - loss: 0.6185 - accuracy: 0.7778 - val_loss: 0.5920 - val_accuracy: 0.7914\n",
            "Epoch 6/10\n",
            "176/176 [==============================] - 31s 175ms/step - loss: 0.5772 - accuracy: 0.7923 - val_loss: 0.5675 - val_accuracy: 0.7921\n",
            "Epoch 7/10\n",
            "176/176 [==============================] - 29s 163ms/step - loss: 0.5328 - accuracy: 0.8070 - val_loss: 0.5855 - val_accuracy: 0.7910\n",
            "Epoch 8/10\n",
            "176/176 [==============================] - 29s 163ms/step - loss: 0.5051 - accuracy: 0.8174 - val_loss: 0.5436 - val_accuracy: 0.7996\n",
            "Epoch 9/10\n",
            "176/176 [==============================] - 29s 162ms/step - loss: 0.4524 - accuracy: 0.8338 - val_loss: 0.5221 - val_accuracy: 0.8088\n",
            "Epoch 10/10\n",
            "176/176 [==============================] - 29s 162ms/step - loss: 0.4292 - accuracy: 0.8463 - val_loss: 0.5266 - val_accuracy: 0.8121\n",
            "47/47 [==============================] - 652s 14s/step - loss: 0.5140 - accuracy: 0.8147\n"
          ]
        }
      ]
    },
    {
      "cell_type": "code",
      "source": [
        "print(test_loss,test_acc)"
      ],
      "metadata": {
        "colab": {
          "base_uri": "https://localhost:8080/"
        },
        "id": "UOCMRAkDvcI1",
        "outputId": "761a3f62-148f-44ee-d0da-ee2c74871f43"
      },
      "id": "UOCMRAkDvcI1",
      "execution_count": 63,
      "outputs": [
        {
          "output_type": "stream",
          "name": "stdout",
          "text": [
            "0.5139740109443665 0.8146666884422302\n"
          ]
        }
      ]
    },
    {
      "cell_type": "code",
      "source": [],
      "metadata": {
        "id": "c8dgzE5P0eW6"
      },
      "id": "c8dgzE5P0eW6",
      "execution_count": null,
      "outputs": []
    }
  ],
  "metadata": {
    "kernelspec": {
      "display_name": "Python 3 (ipykernel)",
      "language": "python",
      "name": "python3"
    },
    "language_info": {
      "codemirror_mode": {
        "name": "ipython",
        "version": 3
      },
      "file_extension": ".py",
      "mimetype": "text/x-python",
      "name": "python",
      "nbconvert_exporter": "python",
      "pygments_lexer": "ipython3",
      "version": "3.9.13"
    },
    "colab": {
      "provenance": []
    },
    "accelerator": "GPU",
    "gpuClass": "standard"
  },
  "nbformat": 4,
  "nbformat_minor": 5
}